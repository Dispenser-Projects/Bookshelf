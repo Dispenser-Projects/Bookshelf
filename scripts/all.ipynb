{
 "cells": [
  {
   "cell_type": "markdown",
   "metadata": {},
   "source": [
    "## Install dependencies"
   ]
  },
  {
   "cell_type": "code",
   "execution_count": null,
   "metadata": {},
   "outputs": [],
   "source": [
    "%pip install -e ."
   ]
  },
  {
   "cell_type": "markdown",
   "metadata": {},
   "source": [
    "## Run packtest"
   ]
  },
  {
   "cell_type": "code",
   "execution_count": null,
   "metadata": {},
   "outputs": [],
   "source": [
    "import packtest\n",
    "import definitions\n",
    "\n",
    "packtest.run(definitions.MC_VERSION, definitions.DATAPACKS_PATH)"
   ]
  },
  {
   "cell_type": "markdown",
   "metadata": {},
   "source": [
    "\n",
    "## Run generators"
   ]
  },
  {
   "cell_type": "markdown",
   "metadata": {},
   "source": [
    "### Features"
   ]
  },
  {
   "cell_type": "code",
   "execution_count": 1,
   "metadata": {},
   "outputs": [
    {
     "name": "stdout",
     "output_type": "stream",
     "text": [
      "⛰️ Running the biome generator\n",
      "\u001b[90m⚙️ Generating tags files\u001b[0m\n",
      "\u001b[90m⚙️ Generating predicates files\u001b[0m\n",
      "\u001b[90m⚙️ Generating types table function\u001b[0m\n",
      "\u001b[90m⚙️ Updating storage file asset\u001b[0m\n"
     ]
    },
    {
     "ename": "FileNotFoundError",
     "evalue": "[Errno 2] No such file or directory: 'C:\\\\Users\\\\theog\\\\AppData\\\\Roaming\\\\com.modrinth.theseus\\\\profiles\\\\Bookshelf\\\\saves\\\\Bookshelf\\\\generated\\\\command_storage_bs.dat'",
     "output_type": "error",
     "traceback": [
      "\u001b[1;31m---------------------------------------------------------------------------\u001b[0m",
      "\u001b[1;31mFileNotFoundError\u001b[0m                         Traceback (most recent call last)",
      "Cell \u001b[1;32mIn[1], line 4\u001b[0m\n\u001b[0;32m      1\u001b[0m \u001b[38;5;28;01mimport\u001b[39;00m \u001b[38;5;21;01mgenerators\u001b[39;00m\n\u001b[0;32m      2\u001b[0m \u001b[38;5;28;01mimport\u001b[39;00m \u001b[38;5;21;01mdefinitions\u001b[39;00m\n\u001b[1;32m----> 4\u001b[0m \u001b[43mgenerators\u001b[49m\u001b[38;5;241;43m.\u001b[39;49m\u001b[43mbiome\u001b[49m\u001b[38;5;241;43m.\u001b[39;49m\u001b[43mrun\u001b[49m\u001b[43m(\u001b[49m\u001b[43mdefinitions\u001b[49m\u001b[38;5;241;43m.\u001b[39;49m\u001b[43mMC_VERSION\u001b[49m\u001b[43m,\u001b[49m\u001b[43m \u001b[49m\u001b[43mdefinitions\u001b[49m\u001b[38;5;241;43m.\u001b[39;49m\u001b[43mDATAPACKS_PATH\u001b[49m\u001b[43m,\u001b[49m\u001b[43m \u001b[49m\u001b[43mdefinitions\u001b[49m\u001b[38;5;241;43m.\u001b[39;49m\u001b[43mGENERATED_PATH\u001b[49m\u001b[43m)\u001b[49m\n\u001b[0;32m      5\u001b[0m generators\u001b[38;5;241m.\u001b[39mblock\u001b[38;5;241m.\u001b[39mrun(definitions\u001b[38;5;241m.\u001b[39mMC_VERSION, definitions\u001b[38;5;241m.\u001b[39mDATAPACKS_PATH, definitions\u001b[38;5;241m.\u001b[39mGENERATED_PATH)\n",
      "File \u001b[1;32m~\\AppData\\Roaming\\com.modrinth.theseus\\profiles\\Bookshelf\\saves\\Bookshelf\\scripts\\src\\generators\\biome.py:57\u001b[0m, in \u001b[0;36mrun\u001b[1;34m(mc_version, datapacks_path, assets_path)\u001b[0m\n\u001b[0;32m     52\u001b[0m biomes \u001b[38;5;241m=\u001b[39m get_biomes(mc_version)\n\u001b[0;32m     53\u001b[0m \u001b[38;5;28;01mfor\u001b[39;00m processor \u001b[38;5;129;01min\u001b[39;00m get_processors(\n\u001b[0;32m     54\u001b[0m     Path(datapacks_path),\n\u001b[0;32m     55\u001b[0m     Path(assets_path) \u001b[38;5;28;01mif\u001b[39;00m assets_path \u001b[38;5;28;01melse\u001b[39;00m \u001b[38;5;28;01mNone\u001b[39;00m\n\u001b[0;32m     56\u001b[0m ):\n\u001b[1;32m---> 57\u001b[0m     \u001b[43mprocessor\u001b[49m\u001b[38;5;241;43m.\u001b[39;49m\u001b[43mprocess\u001b[49m\u001b[43m(\u001b[49m\u001b[43mbiomes\u001b[49m\u001b[43m)\u001b[49m\n\u001b[0;32m     59\u001b[0m \u001b[38;5;28mprint\u001b[39m(\u001b[38;5;124m\"\u001b[39m\u001b[38;5;124m✅ Done!\u001b[39m\u001b[38;5;124m\"\u001b[39m)\n",
      "File \u001b[1;32m~\\AppData\\Roaming\\com.modrinth.theseus\\profiles\\Bookshelf\\saves\\Bookshelf\\scripts\\src\\generators\\processors\\biome.py:66\u001b[0m, in \u001b[0;36mUpdateStorageFile.process\u001b[1;34m(self, data)\u001b[0m\n\u001b[0;32m     63\u001b[0m \u001b[38;5;28;01mdef\u001b[39;00m \u001b[38;5;21mprocess\u001b[39m(\u001b[38;5;28mself\u001b[39m, data):\n\u001b[0;32m     64\u001b[0m     \u001b[38;5;28mprint\u001b[39m(\u001b[38;5;124m\"\u001b[39m\u001b[38;5;130;01m\\033\u001b[39;00m\u001b[38;5;124m[90m⚙️ Updating storage file asset\u001b[39m\u001b[38;5;130;01m\\033\u001b[39;00m\u001b[38;5;124m[0m\u001b[39m\u001b[38;5;124m\"\u001b[39m)\n\u001b[1;32m---> 66\u001b[0m     \u001b[38;5;28;43mself\u001b[39;49m\u001b[38;5;241;43m.\u001b[39;49m\u001b[43mwrite_nbt\u001b[49m\u001b[43m(\u001b[49m\n\u001b[0;32m     67\u001b[0m \u001b[43m        \u001b[49m\u001b[38;5;28;43mself\u001b[39;49m\u001b[38;5;241;43m.\u001b[39;49m\u001b[43mtarget\u001b[49m\u001b[43m,\u001b[49m\n\u001b[0;32m     68\u001b[0m \u001b[43m        \u001b[49m\u001b[38;5;28;43mself\u001b[39;49m\u001b[38;5;241;43m.\u001b[39;49m\u001b[43mrender\u001b[49m\u001b[43m(\u001b[49m\u001b[38;5;28;43mself\u001b[39;49m\u001b[38;5;241;43m.\u001b[39;49m\u001b[43mformat\u001b[49m\u001b[43m(\u001b[49m\u001b[43mdata\u001b[49m\u001b[43m)\u001b[49m\u001b[43m)\u001b[49m\u001b[43m,\u001b[49m\n\u001b[0;32m     69\u001b[0m \u001b[43m        \u001b[49m\u001b[38;5;124;43m\"\u001b[39;49m\u001b[38;5;124;43m.data.contents.const.biome\u001b[39;49m\u001b[38;5;124;43m\"\u001b[39;49m\u001b[43m,\u001b[49m\n\u001b[0;32m     70\u001b[0m \u001b[43m    \u001b[49m\u001b[43m)\u001b[49m\n",
      "File \u001b[1;32m~\\AppData\\Roaming\\com.modrinth.theseus\\profiles\\Bookshelf\\saves\\Bookshelf\\scripts\\src\\generators\\contracts\\processor.py:44\u001b[0m, in \u001b[0;36mDataProcessor.write_nbt\u001b[1;34m(self, file, contents, storage_path)\u001b[0m\n\u001b[0;32m     40\u001b[0m \u001b[38;5;250m\u001b[39m\u001b[38;5;124;03m\"\"\"\u001b[39;00m\n\u001b[0;32m     41\u001b[0m \u001b[38;5;124;03mWrites snbt to a .dat file.\u001b[39;00m\n\u001b[0;32m     42\u001b[0m \u001b[38;5;124;03m\"\"\"\u001b[39;00m\n\u001b[0;32m     43\u001b[0m os\u001b[38;5;241m.\u001b[39mmakedirs(file\u001b[38;5;241m.\u001b[39mparent, exist_ok\u001b[38;5;241m=\u001b[39m\u001b[38;5;28;01mTrue\u001b[39;00m)\n\u001b[1;32m---> 44\u001b[0m \u001b[38;5;28;01mwith\u001b[39;00m \u001b[43mnbtlib\u001b[49m\u001b[38;5;241;43m.\u001b[39;49m\u001b[43mload\u001b[49m\u001b[43m(\u001b[49m\u001b[43mfile\u001b[49m\u001b[43m)\u001b[49m \u001b[38;5;28;01mas\u001b[39;00m storage:\n\u001b[0;32m     45\u001b[0m     paths \u001b[38;5;241m=\u001b[39m storage_path\u001b[38;5;241m.\u001b[39msplit(\u001b[38;5;124m\"\u001b[39m\u001b[38;5;124m.\u001b[39m\u001b[38;5;124m\"\u001b[39m)\n\u001b[0;32m     46\u001b[0m     \u001b[38;5;28;01mfor\u001b[39;00m path \u001b[38;5;129;01min\u001b[39;00m paths[:\u001b[38;5;241m-\u001b[39m\u001b[38;5;241m1\u001b[39m]:\n",
      "File \u001b[1;32mc:\\Users\\theog\\AppData\\Local\\Programs\\Python\\Python312\\Lib\\site-packages\\nbtlib\\nbt.py:124\u001b[0m, in \u001b[0;36mload\u001b[1;34m(filename, gzipped, byteorder)\u001b[0m\n\u001b[0;32m    120\u001b[0m     \u001b[38;5;28;01mreturn\u001b[39;00m File\u001b[38;5;241m.\u001b[39mload(filename, gzipped, byteorder)\n\u001b[0;32m    122\u001b[0m \u001b[38;5;66;03m# Read the magic number otherwise and call `File.from_fileobj` with\u001b[39;00m\n\u001b[0;32m    123\u001b[0m \u001b[38;5;66;03m# the appropriate file object\u001b[39;00m\n\u001b[1;32m--> 124\u001b[0m \u001b[38;5;28;01mwith\u001b[39;00m \u001b[38;5;28;43mopen\u001b[39;49m\u001b[43m(\u001b[49m\u001b[43mfilename\u001b[49m\u001b[43m,\u001b[49m\u001b[43m \u001b[49m\u001b[38;5;124;43m\"\u001b[39;49m\u001b[38;5;124;43mrb\u001b[39;49m\u001b[38;5;124;43m\"\u001b[39;49m\u001b[43m)\u001b[49m \u001b[38;5;28;01mas\u001b[39;00m fileobj:\n\u001b[0;32m    125\u001b[0m     magic_number \u001b[38;5;241m=\u001b[39m fileobj\u001b[38;5;241m.\u001b[39mread(\u001b[38;5;241m2\u001b[39m)\n\u001b[0;32m    126\u001b[0m     fileobj\u001b[38;5;241m.\u001b[39mseek(\u001b[38;5;241m0\u001b[39m)\n",
      "\u001b[1;31mFileNotFoundError\u001b[0m: [Errno 2] No such file or directory: 'C:\\\\Users\\\\theog\\\\AppData\\\\Roaming\\\\com.modrinth.theseus\\\\profiles\\\\Bookshelf\\\\saves\\\\Bookshelf\\\\generated\\\\command_storage_bs.dat'"
     ]
    }
   ],
   "source": [
    "import generators\n",
    "import definitions\n",
    "\n",
    "generators.biome.run(definitions.MC_VERSION, definitions.DATAPACKS_PATH, definitions.GENERATED_PATH)\n",
    "generators.block.run(definitions.MC_VERSION, definitions.DATAPACKS_PATH, definitions.GENERATED_PATH)"
   ]
  },
  {
   "cell_type": "markdown",
   "metadata": {},
   "source": [
    "### Metadata"
   ]
  },
  {
   "cell_type": "code",
   "execution_count": null,
   "metadata": {},
   "outputs": [],
   "source": [
    "from metadata.generate_metadata import generate\n",
    "from files_provider.files_provider import FilesProvider\n",
    "\n",
    "modules = FilesProvider() \\\n",
    "        .get_all_files_not_upstreamed() \\\n",
    "        .only_dp_artifacts() \\\n",
    "        .get_modules()\n",
    "\n",
    "generate(modules)"
   ]
  },
  {
   "cell_type": "markdown",
   "metadata": {},
   "source": [
    "### Foo"
   ]
  },
  {
   "cell_type": "code",
   "execution_count": 1,
   "metadata": {},
   "outputs": [
    {
     "name": "stdout",
     "output_type": "stream",
     "text": [
      "\u001b[38;5;1m Metadata file not found for module 'datapacks\\Bookshelf\\data\\bs.biome'.\u001b[0m\n",
      "\u001b[38;5;1m Metadata file not found for module 'datapacks\\Bookshelf\\data\\bs.bitwise'.\u001b[0m\n",
      "\u001b[38;5;1m Metadata file not found for module 'datapacks\\Bookshelf\\data\\bs.block'.\u001b[0m\n",
      "\u001b[38;5;1m Metadata file not found for module 'datapacks\\Bookshelf\\data\\bs.color'.\u001b[0m\n",
      "\u001b[38;5;1m Metadata file not found for module 'datapacks\\Bookshelf\\data\\bs.health'.\u001b[0m\n",
      "\u001b[38;5;1m Metadata file not found for module 'datapacks\\Bookshelf\\data\\bs.hitbox'.\u001b[0m\n",
      "\u001b[38;5;1m Metadata file not found for module 'datapacks\\Bookshelf\\data\\bs.id'.\u001b[0m\n",
      "\u001b[38;5;1m Metadata file not found for module 'datapacks\\Bookshelf\\data\\bs.link'.\u001b[0m\n",
      "\u001b[38;5;1m Metadata file not found for module 'datapacks\\Bookshelf\\data\\bs.math'.\u001b[0m\n",
      "\u001b[38;5;1m Metadata file not found for module 'datapacks\\Bookshelf\\data\\bs.move'.\u001b[0m\n",
      "\u001b[38;5;1m Metadata file not found for module 'datapacks\\Bookshelf\\data\\bs.position'.\u001b[0m\n",
      "\u001b[38;5;1m Metadata file not found for module 'datapacks\\Bookshelf\\data\\bs.raycast'.\u001b[0m\n",
      "\u001b[38;5;1m Metadata file not found for module 'datapacks\\Bookshelf\\data\\bs.schedule'.\u001b[0m\n",
      "\u001b[38;5;3m Metadata file for module 'datapacks\\Bookshelf\\data\\bs.sidebar' is missing optional key 'icon'. You should consider adding it.\u001b[0m\n",
      "\u001b[38;5;1m Metadata file not found for module 'datapacks\\Bookshelf\\data\\bs.time'.\u001b[0m\n",
      "\u001b[38;5;1m Metadata file not found for module 'datapacks\\Bookshelf\\data\\bs.tree'.\u001b[0m\n",
      "\u001b[38;5;1m Metadata file not found for module 'datapacks\\Bookshelf\\data\\bs.vector'.\u001b[0m\n",
      "\u001b[38;5;1m Metadata file not found for module 'datapacks\\Bookshelf\\data\\bs.view'.\u001b[0m\n",
      "\u001b[38;5;1m Metadata file not found for module 'datapacks\\Bookshelf\\data\\bs.weather'.\u001b[0m\n",
      "\u001b[38;5;1m Metadata file not found for module 'datapacks\\Bookshelf\\data\\bs.xp'.\u001b[0m\n",
      "\u001b[38;5;1m Metadata file not found for module 'datapacks\\Bookshelf Dev\\data\\bs.dump'.\u001b[0m\n",
      "\u001b[38;5;1m Metadata file not found for module 'datapacks\\Bookshelf Dev\\data\\bs.log'.\u001b[0m\n"
     ]
    }
   ],
   "source": [
    "from metadata.generate_manifest import generate\n",
    "\n",
    "generate()"
   ]
  },
  {
   "cell_type": "markdown",
   "metadata": {},
   "source": [
    "## Validate metadata"
   ]
  },
  {
   "cell_type": "markdown",
   "metadata": {},
   "source": [
    "### Check Function Header"
   ]
  },
  {
   "cell_type": "code",
   "execution_count": null,
   "metadata": {},
   "outputs": [],
   "source": [
    "from check_function_headers.check_function_headers import check\n",
    "from files_provider.files_provider import FilesProvider\n",
    "\n",
    "files = FilesProvider() \\\n",
    "        .get_all_files_not_upstreamed() \\\n",
    "        .only_dp_artifacts() \\\n",
    "        .get_features()\n",
    "\n",
    "check(files)"
   ]
  },
  {
   "cell_type": "markdown",
   "metadata": {},
   "source": [
    "### Check Metadata File"
   ]
  },
  {
   "cell_type": "code",
   "execution_count": null,
   "metadata": {},
   "outputs": [],
   "source": [
    "from files_provider.files_provider import FilesProvider\n",
    "from metadata.check_module_metadata_file import check\n",
    "\n",
    "modules = FilesProvider() \\\n",
    "        .get_all_files_not_upstreamed() \\\n",
    "        .only_dp_artifacts() \\\n",
    "        .get_modules() \\\n",
    "        .get()\n",
    "\n",
    "check(modules)"
   ]
  },
  {
   "cell_type": "markdown",
   "metadata": {},
   "source": [
    "### Check Feature Tag Metadata"
   ]
  },
  {
   "cell_type": "code",
   "execution_count": null,
   "metadata": {},
   "outputs": [],
   "source": [
    "from files_provider.files_provider import FilesProvider\n",
    "from check_feature_tag.check_feature_tag import check\n",
    "\n",
    "files = FilesProvider() \\\n",
    "        .get_all_files_not_upstreamed() \\\n",
    "        .only_dp_artifacts() \\\n",
    "        .get_features()\n",
    "\n",
    "check(files)"
   ]
  },
  {
   "cell_type": "markdown",
   "metadata": {},
   "source": [
    "### Check Generated Metadata"
   ]
  },
  {
   "cell_type": "code",
   "execution_count": null,
   "metadata": {},
   "outputs": [],
   "source": [
    "from metadata.check_generated_metadata import check\n",
    "from files_provider.files_provider import FilesProvider\n",
    "\n",
    "modules = FilesProvider() \\\n",
    "        .get_all_files_not_upstreamed() \\\n",
    "        .only_dp_artifacts() \\\n",
    "        .get_modules()\n",
    "\n",
    "check(modules)"
   ]
  }
 ],
 "metadata": {
  "kernelspec": {
   "display_name": "Python 3",
   "language": "python",
   "name": "python3"
  },
  "language_info": {
   "codemirror_mode": {
    "name": "ipython",
    "version": 3
   },
   "file_extension": ".py",
   "mimetype": "text/x-python",
   "name": "python",
   "nbconvert_exporter": "python",
   "pygments_lexer": "ipython3",
   "version": "3.12.3"
  }
 },
 "nbformat": 4,
 "nbformat_minor": 2
}
