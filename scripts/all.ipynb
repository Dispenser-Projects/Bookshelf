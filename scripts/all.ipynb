{
 "cells": [
  {
   "cell_type": "markdown",
   "metadata": {},
   "source": [
    "## Dependencies"
   ]
  },
  {
   "cell_type": "code",
   "execution_count": null,
   "metadata": {},
   "outputs": [],
   "source": [
    "%pip install -r requirements.txt"
   ]
  },
  {
   "cell_type": "markdown",
   "metadata": {},
   "source": [
    "## Test datapacks"
   ]
  },
  {
   "cell_type": "code",
   "execution_count": null,
   "metadata": {},
   "outputs": [],
   "source": [
    "import mcunit\n",
    "import definitions\n",
    "\n",
    "mcunit.run(definitions.DATAPACKS_PATH, definitions.MC_VERSION)"
   ]
  },
  {
   "cell_type": "markdown",
   "metadata": {},
   "source": [
    "## Validate metadata"
   ]
  },
  {
   "cell_type": "code",
   "execution_count": 2,
   "metadata": {},
   "outputs": [
    {
     "name": "stdout",
     "output_type": "stream",
     "text": [
      "📄 The following files will be reviewed:\n",
      "  datapacks\\Bookshelf\\data\\bs.bitwise\\functions\\and\\and.mcfunction\n",
      "  datapacks\\Bookshelf\\data\\bs.bitwise\\tags\\functions\\and.json\n",
      "  datapacks\\Bookshelf\\data\\bs.block\\tags\\functions\\get_block.json\n",
      "  datapacks\\Bookshelf\\data\\bs.sidebar\\tags\\functions\\create.json\n"
     ]
    },
    {
     "ename": "AttributeError",
     "evalue": "type object 'DataCategory' has no attribute 'TAG'",
     "output_type": "error",
     "traceback": [
      "\u001b[1;31m---------------------------------------------------------------------------\u001b[0m",
      "\u001b[1;31mAttributeError\u001b[0m                            Traceback (most recent call last)",
      "Cell \u001b[1;32mIn[2], line 9\u001b[0m\n\u001b[0;32m      2\u001b[0m \u001b[38;5;28;01mfrom\u001b[39;00m \u001b[38;5;21;01mfiles_provider\u001b[39;00m\u001b[38;5;21;01m.\u001b[39;00m\u001b[38;5;21;01mfiles_provider\u001b[39;00m \u001b[38;5;28;01mimport\u001b[39;00m FilesProvider\n\u001b[0;32m      4\u001b[0m files \u001b[38;5;241m=\u001b[39m FilesProvider() \\\n\u001b[0;32m      5\u001b[0m         \u001b[38;5;241m.\u001b[39mget_all_files_not_upstreamed() \\\n\u001b[0;32m      6\u001b[0m         \u001b[38;5;241m.\u001b[39monly_dp_artifacts() \\\n\u001b[0;32m      7\u001b[0m         \u001b[38;5;241m.\u001b[39mget()\n\u001b[1;32m----> 9\u001b[0m \u001b[43mprocess\u001b[49m\u001b[43m(\u001b[49m\u001b[43mfiles\u001b[49m\u001b[43m)\u001b[49m\n",
      "File \u001b[1;32mc:\\Users\\theog\\AppData\\Roaming\\com.modrinth.theseus\\profiles\\Bookshelf\\saves\\Bookshelf\\scripts\\check_headers\\process.py:34\u001b[0m, in \u001b[0;36mprocess\u001b[1;34m(artifact_paths)\u001b[0m\n\u001b[0;32m     30\u001b[0m \u001b[38;5;28mprint\u001b[39m(\u001b[38;5;124m\"\u001b[39m\u001b[38;5;130;01m\\n\u001b[39;00m\u001b[38;5;124m\"\u001b[39m\u001b[38;5;241m.\u001b[39mjoin([ \u001b[38;5;124m\"\u001b[39m\u001b[38;5;124m  \u001b[39m\u001b[38;5;124m\"\u001b[39m \u001b[38;5;241m+\u001b[39m \u001b[38;5;28mstr\u001b[39m(path\u001b[38;5;241m.\u001b[39mreal_path\u001b[38;5;241m.\u001b[39mrelative_to(definitions\u001b[38;5;241m.\u001b[39mROOT_DIR)) \u001b[38;5;28;01mfor\u001b[39;00m path \u001b[38;5;129;01min\u001b[39;00m artifact_paths]))\n\u001b[0;32m     32\u001b[0m getter \u001b[38;5;241m=\u001b[39m FunctionCallGetter()\n\u001b[1;32m---> 34\u001b[0m feature_set: FeatureSet \u001b[38;5;241m=\u001b[39m \u001b[43mgetter\u001b[49m\u001b[38;5;241;43m.\u001b[39;49m\u001b[43mbuild_function_call_tree\u001b[49m\u001b[43m(\u001b[49m\u001b[43martifact_paths\u001b[49m\u001b[43m)\u001b[49m\n\u001b[0;32m     35\u001b[0m \u001b[38;5;28mprint\u001b[39m(\u001b[38;5;124mf\u001b[39m\u001b[38;5;124m\"\u001b[39m\u001b[38;5;124m📦 Found \u001b[39m\u001b[38;5;132;01m{\u001b[39;00m\u001b[38;5;28mlen\u001b[39m(feature_set\u001b[38;5;241m.\u001b[39mfeatures)\u001b[38;5;132;01m}\u001b[39;00m\u001b[38;5;124m features:\u001b[39m\u001b[38;5;124m\"\u001b[39m)\n\u001b[0;32m     36\u001b[0m \u001b[38;5;28;01mfor\u001b[39;00m feature \u001b[38;5;129;01min\u001b[39;00m feature_set\u001b[38;5;241m.\u001b[39mfeatures:\n",
      "File \u001b[1;32mc:\\Users\\theog\\AppData\\Roaming\\com.modrinth.theseus\\profiles\\Bookshelf\\saves\\Bookshelf\\scripts\\function_call_getter\\function_call_getter.py:24\u001b[0m, in \u001b[0;36mFunctionCallGetter.build_function_call_tree\u001b[1;34m(self, artifact_paths)\u001b[0m\n\u001b[0;32m     21\u001b[0m features: \u001b[38;5;28mlist\u001b[39m[Feature] \u001b[38;5;241m=\u001b[39m []\n\u001b[0;32m     23\u001b[0m \u001b[38;5;28;01mfor\u001b[39;00m artifact_path \u001b[38;5;129;01min\u001b[39;00m artifact_paths:\n\u001b[1;32m---> 24\u001b[0m     \u001b[38;5;28;01mif\u001b[39;00m artifact_path\u001b[38;5;241m.\u001b[39mcategory \u001b[38;5;241m==\u001b[39m \u001b[43mDataCategory\u001b[49m\u001b[38;5;241;43m.\u001b[39;49m\u001b[43mTAG\u001b[49m:\n\u001b[0;32m     25\u001b[0m         \u001b[38;5;28;01mwith\u001b[39;00m \u001b[38;5;28mopen\u001b[39m(artifact_path\u001b[38;5;241m.\u001b[39mreal_path, mode\u001b[38;5;241m=\u001b[39m\u001b[38;5;124m'\u001b[39m\u001b[38;5;124mr\u001b[39m\u001b[38;5;124m'\u001b[39m, encoding\u001b[38;5;241m=\u001b[39m\u001b[38;5;124m'\u001b[39m\u001b[38;5;124mutf-8\u001b[39m\u001b[38;5;124m'\u001b[39m) \u001b[38;5;28;01mas\u001b[39;00m f:\n\u001b[0;32m     26\u001b[0m             contents \u001b[38;5;241m=\u001b[39m json\u001b[38;5;241m.\u001b[39mload(f)\n",
      "\u001b[1;31mAttributeError\u001b[0m: type object 'DataCategory' has no attribute 'TAG'"
     ]
    }
   ],
   "source": [
    "from check_headers.process import process\n",
    "from files_provider.files_provider import FilesProvider\n",
    "\n",
    "files = FilesProvider() \\\n",
    "        .get_all_files_not_upstreamed() \\\n",
    "        .only_dp_artifacts() \\\n",
    "        .get()\n",
    "\n",
    "process(files)"
   ]
  },
  {
   "cell_type": "markdown",
   "metadata": {},
   "source": [
    "\n",
    "## Run generators"
   ]
  },
  {
   "cell_type": "code",
   "execution_count": null,
   "metadata": {},
   "outputs": [],
   "source": [
    "import generators\n",
    "import definitions\n",
    "\n",
    "generators.biome.run(definitions.MC_VERSION, definitions.DATAPACKS_PATH, definitions.ASSETS_PATH)\n",
    "generators.block.run(definitions.MC_VERSION, definitions.DATAPACKS_PATH, definitions.ASSETS_PATH)"
   ]
  }
 ],
 "metadata": {
  "kernelspec": {
   "display_name": "Python 3",
   "language": "python",
   "name": "python3"
  },
  "language_info": {
   "codemirror_mode": {
    "name": "ipython",
    "version": 3
   },
   "file_extension": ".py",
   "mimetype": "text/x-python",
   "name": "python",
   "nbconvert_exporter": "python",
   "pygments_lexer": "ipython3",
   "version": "3.12.3"
  }
 },
 "nbformat": 4,
 "nbformat_minor": 2
}
