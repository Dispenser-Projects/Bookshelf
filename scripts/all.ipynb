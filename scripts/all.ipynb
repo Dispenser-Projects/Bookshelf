{
 "cells": [
  {
   "cell_type": "markdown",
   "metadata": {},
   "source": [
    "## Dependencies"
   ]
  },
  {
   "cell_type": "code",
   "execution_count": null,
   "metadata": {},
   "outputs": [],
   "source": [
    "%pip install -e ."
   ]
  },
  {
   "cell_type": "markdown",
   "metadata": {},
   "source": [
    "## Test datapacks"
   ]
  },
  {
   "cell_type": "code",
   "execution_count": null,
   "metadata": {},
   "outputs": [],
   "source": [
    "import mcunit\n",
    "import definitions\n",
    "\n",
    "mcunit.run(definitions.DATAPACKS_PATH, definitions.MC_VERSION)"
   ]
  },
  {
   "cell_type": "markdown",
   "metadata": {},
   "source": [
    "\n",
    "## Run generators"
   ]
  },
  {
   "cell_type": "markdown",
   "metadata": {},
   "source": [
    "### Features"
   ]
  },
  {
   "cell_type": "code",
   "execution_count": null,
   "metadata": {},
   "outputs": [],
   "source": [
    "import generators\n",
    "import definitions\n",
    "\n",
    "generators.biome.run(definitions.MC_VERSION, definitions.DATAPACKS_PATH, definitions.ASSETS_PATH)\n",
    "generators.block.run(definitions.MC_VERSION, definitions.DATAPACKS_PATH, definitions.ASSETS_PATH)"
   ]
  },
  {
   "cell_type": "markdown",
   "metadata": {},
   "source": [
    "### Metadata"
   ]
  },
  {
   "cell_type": "code",
   "execution_count": 5,
   "metadata": {},
   "outputs": [
    {
     "name": "stdout",
     "output_type": "stream",
     "text": [
      "🧩 The following modules will be analyzed:\u001b[0m\n",
      "   \u001b[38;5;8m datapacks\\Bookshelf\\data\\bs.block\u001b[0m\n",
      "📦 Found 1 features:\u001b[0m\n",
      "   \u001b[38;5;8m bs.block:get_block\u001b[0m\n",
      "⏳ Generating their metadata file…\u001b[0m\n",
      "   \u001b[38;5;8m Computing metadata for module bs.block.\u001b[0m\n",
      "   \u001b[38;5;8m Computing feature for module bs.block:get_block.\u001b[0m\n",
      "✅ Done!\n"
     ]
    },
    {
     "data": {
      "text/plain": [
       "False"
      ]
     },
     "execution_count": 5,
     "metadata": {},
     "output_type": "execute_result"
    }
   ],
   "source": [
    "from dependencies.generate_metadata import generate\n",
    "from files_provider.files_provider import FilesProvider\n",
    "\n",
    "modules = FilesProvider() \\\n",
    "        .get_all_files_not_upstreamed() \\\n",
    "        .only_dp_artifacts() \\\n",
    "        .get_modules()\n",
    "        \n",
    "generate(modules)"
   ]
  },
  {
   "cell_type": "markdown",
   "metadata": {},
   "source": [
    "## Validate metadata"
   ]
  },
  {
   "cell_type": "markdown",
   "metadata": {},
   "source": [
    "### Check Function Header"
   ]
  },
  {
   "cell_type": "code",
   "execution_count": 7,
   "metadata": {},
   "outputs": [
    {
     "name": "stdout",
     "output_type": "stream",
     "text": [
      "📄 The following files will be reviewed:\u001b[0m\n",
      "📦 Found 0 features:\u001b[0m\n",
      "⏳ Checking the header of all the called function…\u001b[0m\n",
      "✅ Done!\n"
     ]
    },
    {
     "data": {
      "text/plain": [
       "False"
      ]
     },
     "execution_count": 7,
     "metadata": {},
     "output_type": "execute_result"
    }
   ],
   "source": [
    "from check_function_headers.check_function_headers import check\n",
    "from files_provider.files_provider import FilesProvider\n",
    "\n",
    "files = FilesProvider() \\\n",
    "        .get_all_files_not_upstreamed() \\\n",
    "        .only_dp_artifacts() \\\n",
    "        .get_features()\n",
    "\n",
    "check(files)"
   ]
  },
  {
   "cell_type": "markdown",
   "metadata": {},
   "source": [
    "### Check Metadata File"
   ]
  },
  {
   "cell_type": "code",
   "execution_count": 2,
   "metadata": {},
   "outputs": [
    {
     "name": "stdout",
     "output_type": "stream",
     "text": [
      "🧩 The following modules will be analyzed:\u001b[0m\n",
      "   \u001b[38;5;8m datapacks\\Bookshelf\\data\\bs.block\u001b[0m\n",
      "⏳ Checking their metadata file…\u001b[0m\n",
      "   \u001b[38;5;8m Checking module 'datapacks\\Bookshelf\\data\\bs.block'.\u001b[0m\n",
      "✅ Done!\n"
     ]
    },
    {
     "data": {
      "text/plain": [
       "False"
      ]
     },
     "execution_count": 2,
     "metadata": {},
     "output_type": "execute_result"
    }
   ],
   "source": [
    "from files_provider.files_provider import FilesProvider\n",
    "from dependencies.check_module_metadata_file import check\n",
    "\n",
    "modules = FilesProvider() \\\n",
    "        .get_all_files_not_upstreamed() \\\n",
    "        .only_dp_artifacts() \\\n",
    "        .get_modules() \\\n",
    "        .get()\n",
    "\n",
    "check(modules)"
   ]
  },
  {
   "cell_type": "markdown",
   "metadata": {},
   "source": [
    "### Check Feature Tag Metadata"
   ]
  },
  {
   "cell_type": "code",
   "execution_count": 3,
   "metadata": {},
   "outputs": [
    {
     "name": "stdout",
     "output_type": "stream",
     "text": [
      "📄 The following files will be reviewed:\u001b[0m\n",
      "   \u001b[38;5;8m datapacks\\Bookshelf\\data\\bs.block\\tags\\functions\\get_block.json\u001b[0m\n",
      "📦 Found 1 features:\u001b[0m\n",
      "   \u001b[38;5;8m bs.block:get_block\u001b[0m\n",
      "⏳ Checking their specified metadata…\u001b[0m\n",
      "✅ Done!\n"
     ]
    },
    {
     "data": {
      "text/plain": [
       "False"
      ]
     },
     "execution_count": 3,
     "metadata": {},
     "output_type": "execute_result"
    }
   ],
   "source": [
    "from files_provider.files_provider import FilesProvider\n",
    "from check_feature_tag.check_feature_tag import check\n",
    "\n",
    "files = FilesProvider() \\\n",
    "        .get_all_files_not_upstreamed() \\\n",
    "        .only_dp_artifacts() \\\n",
    "        .get_features()\n",
    "\n",
    "check(files)"
   ]
  },
  {
   "cell_type": "markdown",
   "metadata": {},
   "source": [
    "### Check Generated Metadata"
   ]
  },
  {
   "cell_type": "code",
   "execution_count": 6,
   "metadata": {},
   "outputs": [
    {
     "name": "stdout",
     "output_type": "stream",
     "text": [
      "🧩 The following modules will be analyzed:\u001b[0m\n",
      "   \u001b[38;5;8m datapacks\\Bookshelf\\data\\bs.block\u001b[0m\n",
      "📦 Found 1 features:\u001b[0m\n",
      "   \u001b[38;5;8m bs.block:get_block\u001b[0m\n",
      "⏳ Computing their metadata file…\u001b[0m\n",
      "   \u001b[38;5;8m Computing metadata for module bs.block.\u001b[0m\n",
      "   \u001b[38;5;2m Metadata file 'datapacks\\Bookshelf\\data\\bs.block\\.metadata\\generated\\module.json' is up-to-date.\u001b[0m\n",
      "   \u001b[38;5;8m Computing feature for module bs.block:get_block.\u001b[0m\n",
      "   \u001b[38;5;2m Metadata file 'datapacks\\Bookshelf\\data\\bs.block\\.metadata\\generated\\features.json' is up-to-date.\u001b[0m\n",
      "✅ Done!\n"
     ]
    },
    {
     "data": {
      "text/plain": [
       "False"
      ]
     },
     "execution_count": 6,
     "metadata": {},
     "output_type": "execute_result"
    }
   ],
   "source": [
    "from dependencies.check_generated_metadata import check\n",
    "from files_provider.files_provider import FilesProvider\n",
    "\n",
    "modules = FilesProvider() \\\n",
    "        .get_all_files_not_upstreamed() \\\n",
    "        .only_dp_artifacts() \\\n",
    "        .get_modules()\n",
    "        \n",
    "check(modules)"
   ]
  }
 ],
 "metadata": {
  "kernelspec": {
   "display_name": "Python 3",
   "language": "python",
   "name": "python3"
  },
  "language_info": {
   "codemirror_mode": {
    "name": "ipython",
    "version": 3
   },
   "file_extension": ".py",
   "mimetype": "text/x-python",
   "name": "python",
   "nbconvert_exporter": "python",
   "pygments_lexer": "ipython3",
   "version": "3.12.3"
  }
 },
 "nbformat": 4,
 "nbformat_minor": 2
}
