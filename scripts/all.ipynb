{
 "cells": [
  {
   "cell_type": "markdown",
   "metadata": {},
   "source": [
    "## Dependencies"
   ]
  },
  {
   "cell_type": "code",
   "execution_count": null,
   "metadata": {},
   "outputs": [],
   "source": [
    "%pip install -r requirements.txt"
   ]
  },
  {
   "cell_type": "markdown",
   "metadata": {},
   "source": [
    "## Test datapacks"
   ]
  },
  {
   "cell_type": "code",
   "execution_count": null,
   "metadata": {},
   "outputs": [],
   "source": [
    "import mcunit\n",
    "import definitions\n",
    "\n",
    "mcunit.run(definitions.DATAPACKS_PATH, definitions.MC_VERSION)"
   ]
  },
  {
   "cell_type": "markdown",
   "metadata": {},
   "source": [
    "## Validate metadata"
   ]
  },
  {
   "cell_type": "code",
   "execution_count": 2,
   "metadata": {},
   "outputs": [
    {
     "name": "stdout",
     "output_type": "stream",
     "text": [
      "📄 The following files will be reviewed:\n",
      "  datapacks/Bookshelf/data/bs.biome/.metadata/metadata.yml\n",
      "  datapacks/Bookshelf/data/bs.bitwise/functions/and/and.mcfunction\n",
      "  datapacks/Bookshelf/data/bs.bitwise/tags/functions/and.json\n",
      "  datapacks/Bookshelf/data/bs.block/tags/functions/get_block.json\n",
      "  datapacks/Bookshelf/data/bs.sidebar/tags/functions/create.json\n",
      "📦 Found 3 features:\n",
      "  bs.bitwise:and\n",
      "  bs.block:get_block\n",
      "  bs.sidebar:create\n",
      "⏳ Checking their header…\n",
      "❌ Missing or invalid line 'documentation' in feature root 'bs.bitwise:and/and' (feature bs.bitwise:and)\n",
      "❌ Missing header in feature root 'bs.block:get/compile/block' (feature bs.block:get_block)\n"
     ]
    }
   ],
   "source": [
    "import os\n",
    "import sys\n",
    "sys.path.append(os.path.join(\"check_headers\"))\n",
    "from notebook import check_unmerged_features\n",
    "\n",
    "check_unmerged_features()"
   ]
  },
  {
   "cell_type": "markdown",
   "metadata": {},
   "source": [
    "\n",
    "## Run generators"
   ]
  },
  {
   "cell_type": "code",
   "execution_count": null,
   "metadata": {},
   "outputs": [],
   "source": [
    "import generators\n",
    "import definitions\n",
    "\n",
    "generators.biome.run(definitions.MC_VERSION, definitions.DATAPACKS_PATH, definitions.ASSETS_PATH)\n",
    "generators.block.run(definitions.MC_VERSION, definitions.DATAPACKS_PATH, definitions.ASSETS_PATH)"
   ]
  }
 ],
 "metadata": {
  "kernelspec": {
   "display_name": "Python 3",
   "language": "python",
   "name": "python3"
  },
  "language_info": {
   "codemirror_mode": {
    "name": "ipython",
    "version": 3
   },
   "file_extension": ".py",
   "mimetype": "text/x-python",
   "name": "python",
   "nbconvert_exporter": "python",
   "pygments_lexer": "ipython3",
   "version": "3.10.4"
  }
 },
 "nbformat": 4,
 "nbformat_minor": 2
}
