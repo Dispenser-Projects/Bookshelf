{
 "cells": [
  {
   "cell_type": "markdown",
   "metadata": {},
   "source": [
    "## Install dependencies"
   ]
  },
  {
   "cell_type": "code",
   "execution_count": null,
   "metadata": {},
   "outputs": [],
   "source": [
    "%pip install -e ."
   ]
  },
  {
   "cell_type": "markdown",
   "metadata": {},
   "source": [
    "## Run packtest"
   ]
  },
  {
   "cell_type": "code",
   "execution_count": null,
   "metadata": {},
   "outputs": [],
   "source": [
    "import packtest\n",
    "import definitions\n",
    "\n",
    "packtest.run(definitions.MC_VERSION, definitions.DATAPACKS_PATH)"
   ]
  },
  {
   "cell_type": "markdown",
   "metadata": {},
   "source": [
    "\n",
    "## Run generators"
   ]
  },
  {
   "cell_type": "markdown",
   "metadata": {},
   "source": [
    "### Features"
   ]
  },
  {
   "cell_type": "code",
   "execution_count": 1,
   "metadata": {},
   "outputs": [
    {
     "name": "stdout",
     "output_type": "stream",
     "text": [
      "⛰️ Running the biome generator\n",
      "\u001b[90m⚙️ Generating tags files\u001b[0m\n",
      "\u001b[90m⚙️ Generating predicates files\u001b[0m\n",
      "\u001b[90m⚙️ Generating types table function\u001b[0m\n",
      "\u001b[90m⚙️ Updating storage file asset\u001b[0m\n",
      "✅ Done!\n",
      "🧱 Running the block generator\n",
      "\u001b[90m⚙️ Generating tags files\u001b[0m\n",
      "\u001b[90m⚙️ Generating types table function\u001b[0m\n",
      "\u001b[90m⚙️ Generating types table function\u001b[0m\n",
      "\u001b[90m⚙️ Generating types table function\u001b[0m\n",
      "\u001b[90m⚙️ Generating states table function\u001b[0m\n",
      "\u001b[90m⚙️ Generating registry functions\u001b[0m\n",
      "\u001b[90m⚙️ Updating storage file asset\u001b[0m\n",
      "✅ Done!\n"
     ]
    }
   ],
   "source": [
    "import generators\n",
    "import definitions\n",
    "\n",
    "generators.biome.run(definitions.MC_VERSION, definitions.DATAPACKS_PATH, definitions.GENERATED_PATH)\n",
    "generators.block.run(definitions.MC_VERSION, definitions.DATAPACKS_PATH, definitions.GENERATED_PATH)"
   ]
  },
  {
   "cell_type": "markdown",
   "metadata": {},
   "source": [
    "### Metadata"
   ]
  },
  {
   "cell_type": "code",
   "execution_count": 5,
   "metadata": {},
   "outputs": [
    {
     "name": "stdout",
     "output_type": "stream",
     "text": [
      "🧩 The following modules will be analyzed:\u001b[0m\n",
      "   \u001b[38;5;8m datapacks\\Bookshelf\\data\\bs.block\u001b[0m\n",
      "📦 Found 1 features:\u001b[0m\n",
      "   \u001b[38;5;8m bs.block:get_block\u001b[0m\n",
      "⏳ Generating their metadata file…\u001b[0m\n",
      "   \u001b[38;5;8m Computing metadata for module bs.block.\u001b[0m\n",
      "   \u001b[38;5;8m Computing feature for module bs.block:get_block.\u001b[0m\n",
      "✅ Done!\n"
     ]
    },
    {
     "data": {
      "text/plain": [
       "False"
      ]
     },
     "execution_count": 5,
     "metadata": {},
     "output_type": "execute_result"
    }
   ],
   "source": [
    "from metadata.generate_metadata import generate\n",
    "from files_provider.files_provider import FilesProvider\n",
    "\n",
    "modules = FilesProvider() \\\n",
    "        .get_all_files_not_upstreamed() \\\n",
    "        .only_dp_artifacts() \\\n",
    "        .get_modules()\n",
    "\n",
    "generate(modules)"
   ]
  },
  {
   "cell_type": "markdown",
   "metadata": {},
   "source": [
    "## Validate metadata"
   ]
  },
  {
   "cell_type": "markdown",
   "metadata": {},
   "source": [
    "### Check Function Header"
   ]
  },
  {
   "cell_type": "code",
   "execution_count": 7,
   "metadata": {},
   "outputs": [
    {
     "name": "stdout",
     "output_type": "stream",
     "text": [
      "📄 The following files will be reviewed:\u001b[0m\n",
      "📦 Found 0 features:\u001b[0m\n",
      "⏳ Checking the header of all the called function…\u001b[0m\n",
      "✅ Done!\n"
     ]
    },
    {
     "data": {
      "text/plain": [
       "False"
      ]
     },
     "execution_count": 7,
     "metadata": {},
     "output_type": "execute_result"
    }
   ],
   "source": [
    "from check_function_headers.check_function_headers import check\n",
    "from files_provider.files_provider import FilesProvider\n",
    "\n",
    "files = FilesProvider() \\\n",
    "        .get_all_files_not_upstreamed() \\\n",
    "        .only_dp_artifacts() \\\n",
    "        .get_features()\n",
    "\n",
    "check(files)"
   ]
  },
  {
   "cell_type": "markdown",
   "metadata": {},
   "source": [
    "### Check Metadata File"
   ]
  },
  {
   "cell_type": "code",
   "execution_count": 2,
   "metadata": {},
   "outputs": [
    {
     "name": "stdout",
     "output_type": "stream",
     "text": [
      "🧩 The following modules will be analyzed:\u001b[0m\n",
      "   \u001b[38;5;8m datapacks\\Bookshelf\\data\\bs.block\u001b[0m\n",
      "⏳ Checking their metadata file…\u001b[0m\n",
      "   \u001b[38;5;8m Checking module 'datapacks\\Bookshelf\\data\\bs.block'.\u001b[0m\n",
      "✅ Done!\n"
     ]
    },
    {
     "data": {
      "text/plain": [
       "False"
      ]
     },
     "execution_count": 2,
     "metadata": {},
     "output_type": "execute_result"
    }
   ],
   "source": [
    "from files_provider.files_provider import FilesProvider\n",
    "from metadata.check_module_metadata_file import check\n",
    "\n",
    "modules = FilesProvider() \\\n",
    "        .get_all_files_not_upstreamed() \\\n",
    "        .only_dp_artifacts() \\\n",
    "        .get_modules() \\\n",
    "        .get()\n",
    "\n",
    "check(modules)"
   ]
  },
  {
   "cell_type": "markdown",
   "metadata": {},
   "source": [
    "### Check Feature Tag Metadata"
   ]
  },
  {
   "cell_type": "code",
   "execution_count": 3,
   "metadata": {},
   "outputs": [
    {
     "name": "stdout",
     "output_type": "stream",
     "text": [
      "📄 The following files will be reviewed:\u001b[0m\n",
      "   \u001b[38;5;8m datapacks\\Bookshelf\\data\\bs.block\\tags\\functions\\get_block.json\u001b[0m\n",
      "📦 Found 1 features:\u001b[0m\n",
      "   \u001b[38;5;8m bs.block:get_block\u001b[0m\n",
      "⏳ Checking their specified metadata…\u001b[0m\n",
      "✅ Done!\n"
     ]
    },
    {
     "data": {
      "text/plain": [
       "False"
      ]
     },
     "execution_count": 3,
     "metadata": {},
     "output_type": "execute_result"
    }
   ],
   "source": [
    "from files_provider.files_provider import FilesProvider\n",
    "from check_feature_tag.check_feature_tag import check\n",
    "\n",
    "files = FilesProvider() \\\n",
    "        .get_all_files_not_upstreamed() \\\n",
    "        .only_dp_artifacts() \\\n",
    "        .get_features()\n",
    "\n",
    "check(files)"
   ]
  },
  {
   "cell_type": "markdown",
   "metadata": {},
   "source": [
    "### Check Generated Metadata"
   ]
  },
  {
   "cell_type": "code",
   "execution_count": 1,
   "metadata": {},
   "outputs": [
    {
     "name": "stdout",
     "output_type": "stream",
     "text": [
      "🧩 The following modules will be analyzed:\u001b[0m\n",
      "   \u001b[38;5;8m datapacks\\Bookshelf\\data\\bs.sidebar\u001b[0m\n",
      "   \u001b[38;5;8m datapacks\\Bookshelf\\data\\bs.bitwise\u001b[0m\n",
      "   \u001b[38;5;8m datapacks\\Bookshelf Dev\\data\\bs.log\u001b[0m\n",
      "   \u001b[38;5;8m datapacks\\Bookshelf\\data\\bs.block\u001b[0m\n",
      "📦 Found 3 features:\u001b[0m\n",
      "   \u001b[38;5;8m bs.sidebar:create\u001b[0m\n",
      "   \u001b[38;5;8m bs.sidebar:refresh\u001b[0m\n",
      "   \u001b[38;5;8m bs.log:error\u001b[0m\n",
      "⏳ Computing their metadata file…\u001b[0m\n",
      "   \u001b[38;5;1m Metadata file not found for module 'datapacks\\Bookshelf\\data\\bs.biome'.\u001b[0m\n",
      "   \u001b[38;5;1m Metadata file not found for module 'datapacks\\Bookshelf\\data\\bs.bitwise'.\u001b[0m\n",
      "   \u001b[38;5;1m Metadata file not found for module 'datapacks\\Bookshelf\\data\\bs.block'.\u001b[0m\n",
      "   \u001b[38;5;1m Metadata file not found for module 'datapacks\\Bookshelf\\data\\bs.color'.\u001b[0m\n",
      "   \u001b[38;5;1m Metadata file not found for module 'datapacks\\Bookshelf\\data\\bs.health'.\u001b[0m\n",
      "   \u001b[38;5;1m Metadata file not found for module 'datapacks\\Bookshelf\\data\\bs.hitbox'.\u001b[0m\n",
      "   \u001b[38;5;1m Metadata file not found for module 'datapacks\\Bookshelf\\data\\bs.id'.\u001b[0m\n",
      "   \u001b[38;5;1m Metadata file not found for module 'datapacks\\Bookshelf\\data\\bs.link'.\u001b[0m\n",
      "   \u001b[38;5;1m Metadata file not found for module 'datapacks\\Bookshelf\\data\\bs.math'.\u001b[0m\n",
      "   \u001b[38;5;1m Metadata file not found for module 'datapacks\\Bookshelf\\data\\bs.move'.\u001b[0m\n",
      "   \u001b[38;5;1m Metadata file not found for module 'datapacks\\Bookshelf\\data\\bs.position'.\u001b[0m\n",
      "   \u001b[38;5;1m Metadata file not found for module 'datapacks\\Bookshelf\\data\\bs.raycast'.\u001b[0m\n",
      "   \u001b[38;5;1m Metadata file not found for module 'datapacks\\Bookshelf\\data\\bs.schedule'.\u001b[0m\n",
      "   \u001b[38;5;3m Metadata file for module 'datapacks\\Bookshelf\\data\\bs.sidebar' is missing optional key 'icon'. You should consider adding it.\u001b[0m\n",
      "   \u001b[38;5;1m Metadata file not found for module 'datapacks\\Bookshelf\\data\\bs.time'.\u001b[0m\n",
      "   \u001b[38;5;1m Metadata file not found for module 'datapacks\\Bookshelf\\data\\bs.tree'.\u001b[0m\n",
      "   \u001b[38;5;1m Metadata file not found for module 'datapacks\\Bookshelf\\data\\bs.vector'.\u001b[0m\n",
      "   \u001b[38;5;1m Metadata file not found for module 'datapacks\\Bookshelf\\data\\bs.view'.\u001b[0m\n",
      "   \u001b[38;5;1m Metadata file not found for module 'datapacks\\Bookshelf\\data\\bs.weather'.\u001b[0m\n",
      "   \u001b[38;5;1m Metadata file not found for module 'datapacks\\Bookshelf\\data\\bs.xp'.\u001b[0m\n",
      "   \u001b[38;5;1m Metadata file not found for module 'datapacks\\Bookshelf Dev\\data\\bs.dump'.\u001b[0m\n",
      "   \u001b[38;5;1m Metadata file not found for module 'datapacks\\Bookshelf Dev\\data\\bs.log'.\u001b[0m\n",
      "   \u001b[38;5;2m Metadata file 'generated\\manifest.json' is up-to-date.\u001b[0m\n",
      "   \u001b[38;5;2m Metadata file 'datapacks\\Bookshelf\\data\\bs.sidebar\\.metadata\\generated\\module.json' is up-to-date.\u001b[0m\n",
      "   \u001b[38;5;2m Metadata file 'datapacks\\Bookshelf\\data\\bs.sidebar\\.metadata\\generated\\features.json' is up-to-date.\u001b[0m\n",
      "❌ Done with 21 errors and 1 warnings.\n"
     ]
    },
    {
     "data": {
      "text/plain": [
       "True"
      ]
     },
     "execution_count": 1,
     "metadata": {},
     "output_type": "execute_result"
    },
    {
     "ename": "",
     "evalue": "",
     "output_type": "error",
     "traceback": [
      "\u001b[1;31mThe Kernel crashed while executing code in the current cell or a previous cell. \n",
      "\u001b[1;31mPlease review the code in the cell(s) to identify a possible cause of the failure. \n",
      "\u001b[1;31mClick <a href='https://aka.ms/vscodeJupyterKernelCrash'>here</a> for more info. \n",
      "\u001b[1;31mView Jupyter <a href='command:jupyter.viewOutput'>log</a> for further details."
     ]
    }
   ],
   "source": [
    "from metadata.check_generated_metadata import check\n",
    "from files_provider.files_provider import FilesProvider\n",
    "\n",
    "modules = FilesProvider() \\\n",
    "        .get_all_files_not_upstreamed() \\\n",
    "        .only_dp_artifacts() \\\n",
    "        .get_modules()\n",
    "\n",
    "check(modules)"
   ]
  }
 ],
 "metadata": {
  "kernelspec": {
   "display_name": "Python 3",
   "language": "python",
   "name": "python3"
  },
  "language_info": {
   "codemirror_mode": {
    "name": "ipython",
    "version": 3
   },
   "file_extension": ".py",
   "mimetype": "text/x-python",
   "name": "python",
   "nbconvert_exporter": "python",
   "pygments_lexer": "ipython3",
   "version": "3.12.3"
  }
 },
 "nbformat": 4,
 "nbformat_minor": 2
}
