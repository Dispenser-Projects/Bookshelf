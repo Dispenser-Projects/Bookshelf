{
 "cells": [
  {
   "cell_type": "markdown",
   "metadata": {},
   "source": [
    "## Dependencies"
   ]
  },
  {
   "cell_type": "code",
   "execution_count": null,
   "metadata": {},
   "outputs": [],
   "source": [
    "%pip install -e ."
   ]
  },
  {
   "cell_type": "markdown",
   "metadata": {},
   "source": [
    "## Test datapacks"
   ]
  },
  {
   "cell_type": "code",
   "execution_count": null,
   "metadata": {},
   "outputs": [],
   "source": [
    "import mcunit\n",
    "import definitions\n",
    "\n",
    "mcunit.run(definitions.DATAPACKS_PATH, definitions.MC_VERSION)"
   ]
  },
  {
   "cell_type": "markdown",
   "metadata": {},
   "source": [
    "\n",
    "## Run generators"
   ]
  },
  {
   "cell_type": "markdown",
   "metadata": {},
   "source": [
    "### Features"
   ]
  },
  {
   "cell_type": "code",
   "execution_count": null,
   "metadata": {},
   "outputs": [],
   "source": [
    "import generators\n",
    "import definitions\n",
    "\n",
    "generators.biome.run(definitions.MC_VERSION, definitions.DATAPACKS_PATH, definitions.ASSETS_PATH)\n",
    "generators.block.run(definitions.MC_VERSION, definitions.DATAPACKS_PATH, definitions.ASSETS_PATH)"
   ]
  },
  {
   "cell_type": "markdown",
   "metadata": {},
   "source": [
    "### Metadata"
   ]
  },
  {
   "cell_type": "code",
   "execution_count": null,
   "metadata": {},
   "outputs": [],
   "source": [
    "from dependencies.generate_metadata import generate\n",
    "from files_provider.files_provider import FilesProvider\n",
    "\n",
    "modules = FilesProvider() \\\n",
    "        .get_all_files_not_upstreamed() \\\n",
    "        .only_dp_artifacts() \\\n",
    "        .get_modules()\n",
    "        \n",
    "generate(modules)"
   ]
  },
  {
   "cell_type": "markdown",
   "metadata": {},
   "source": [
    "## Validate metadata"
   ]
  },
  {
   "cell_type": "markdown",
   "metadata": {},
   "source": [
    "### Check Function Header"
   ]
  },
  {
   "cell_type": "code",
   "execution_count": null,
   "metadata": {},
   "outputs": [],
   "source": [
    "from check_function_headers.check_function_headers import check\n",
    "from files_provider.files_provider import FilesProvider\n",
    "\n",
    "files = FilesProvider() \\\n",
    "        .get_all_files_not_upstreamed() \\\n",
    "        .only_dp_artifacts() \\\n",
    "        .get_features()\n",
    "\n",
    "check(files)"
   ]
  },
  {
   "cell_type": "markdown",
   "metadata": {},
   "source": [
    "### Check Metadata File"
   ]
  },
  {
   "cell_type": "code",
   "execution_count": null,
   "metadata": {},
   "outputs": [],
   "source": [
    "from files_provider.files_provider import FilesProvider\n",
    "from dependencies.check_module_metadata_file import check\n",
    "\n",
    "modules = FilesProvider() \\\n",
    "        .get_all_files_not_upstreamed() \\\n",
    "        .only_dp_artifacts() \\\n",
    "        .get_modules() \\\n",
    "        .get()\n",
    "\n",
    "check(modules)"
   ]
  },
  {
   "cell_type": "markdown",
   "metadata": {},
   "source": [
    "### Check Feature Tag Metadata"
   ]
  },
  {
   "cell_type": "code",
   "execution_count": null,
   "metadata": {},
   "outputs": [],
   "source": [
    "from files_provider.files_provider import FilesProvider\n",
    "from check_feature_tag.check_feature_tag import check\n",
    "\n",
    "files = FilesProvider() \\\n",
    "        .get_all_files_not_upstreamed() \\\n",
    "        .only_dp_artifacts() \\\n",
    "        .get_features()\n",
    "\n",
    "check(files)"
   ]
  },
  {
   "cell_type": "markdown",
   "metadata": {},
   "source": [
    "### Check Generated Metadata"
   ]
  },
  {
   "cell_type": "code",
   "execution_count": null,
   "metadata": {},
   "outputs": [],
   "source": [
    "from dependencies.check_generated_metadata import check\n",
    "from files_provider.files_provider import FilesProvider\n",
    "\n",
    "modules = FilesProvider() \\\n",
    "        .get_all_files_not_upstreamed() \\\n",
    "        .only_dp_artifacts() \\\n",
    "        .get_modules()\n",
    "        \n",
    "check(modules)"
   ]
  }
 ],
 "metadata": {
  "kernelspec": {
   "display_name": "Python 3",
   "language": "python",
   "name": "python3"
  },
  "language_info": {
   "codemirror_mode": {
    "name": "ipython",
    "version": 3
   },
   "file_extension": ".py",
   "mimetype": "text/x-python",
   "name": "python",
   "nbconvert_exporter": "python",
   "pygments_lexer": "ipython3",
   "version": "3.12.3"
  }
 },
 "nbformat": 4,
 "nbformat_minor": 2
}
