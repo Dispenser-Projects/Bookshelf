{
 "cells": [
  {
   "cell_type": "markdown",
   "metadata": {},
   "source": [
    "## Dependencies"
   ]
  },
  {
   "cell_type": "code",
   "execution_count": null,
   "metadata": {},
   "outputs": [],
   "source": [
    "%pip install -r requirements.txt"
   ]
  },
  {
   "cell_type": "markdown",
   "metadata": {},
   "source": [
    "## Test datapacks"
   ]
  },
  {
   "cell_type": "code",
   "execution_count": null,
   "metadata": {},
   "outputs": [],
   "source": [
    "import mcunit\n",
    "import definitions\n",
    "\n",
    "mcunit.run(definitions.DATAPACKS_PATH, definitions.MC_VERSION)"
   ]
  },
  {
   "cell_type": "markdown",
   "metadata": {},
   "source": [
    "## Validate metadata"
   ]
  },
  {
   "cell_type": "markdown",
   "metadata": {},
   "source": [
    "### Feature's Header"
   ]
  },
  {
   "cell_type": "code",
   "execution_count": 1,
   "metadata": {},
   "outputs": [
    {
     "name": "stdout",
     "output_type": "stream",
     "text": [
      "📄 The following files will be reviewed:\n",
      "  datapacks\\Bookshelf\\data\\bs.bitwise\\tags\\functions\\and.json\n",
      "  datapacks\\Bookshelf\\data\\bs.block\\tags\\functions\\get_block.json\n",
      "  datapacks\\Bookshelf\\data\\bs.sidebar\\tags\\functions\\create.json\n",
      "📦 Found 3 features:\n",
      "  bs.bitwise:and.json\n",
      "  bs.block:get_block.json\n",
      "  bs.sidebar:create.json\n",
      "⏳ Checking their header…\n",
      "❌ Missing or invalid line 'documentation' in feature root 'bs.bitwise:and\\and.mcfunction' (feature bs.bitwise:and.json)\n",
      "❌ Missing header in feature root 'bs.block:get\\compile\\block.mcfunction' (feature bs.block:get_block.json)\n"
     ]
    },
    {
     "data": {
      "text/plain": [
       "True"
      ]
     },
     "execution_count": 1,
     "metadata": {},
     "output_type": "execute_result"
    }
   ],
   "source": [
    "from check_headers.process import process\n",
    "from files_provider.files_provider import FilesProvider\n",
    "\n",
    "files = FilesProvider() \\\n",
    "        .get_all_files_not_upstreamed() \\\n",
    "        .only_dp_artifacts() \\\n",
    "        .get_features()\n",
    "\n",
    "process(files)"
   ]
  },
  {
   "cell_type": "markdown",
   "metadata": {},
   "source": [
    "### Metadata file"
   ]
  },
  {
   "cell_type": "code",
   "execution_count": 7,
   "metadata": {},
   "outputs": [
    {
     "name": "stdout",
     "output_type": "stream",
     "text": [
      "🧩 The following modules will be analyzed:\n",
      "  datapacks\\Bookshelf\\data\\bs.bitwise\n",
      "  datapacks\\Bookshelf Dev\\data\\bs.log\n",
      "  datapacks\\Bookshelf\\data\\bs.block\n",
      "  datapacks\\Bookshelf\\data\\bs.sidebar\n",
      "❌ Metadata file not found for module 'datapacks\\Bookshelf\\data\\bs.bitwise'.\n",
      "❌ Metadata file not found for module 'datapacks\\Bookshelf Dev\\data\\bs.log'.\n",
      "❌ Metadata file not found for module 'datapacks\\Bookshelf\\data\\bs.block'.\n"
     ]
    },
    {
     "data": {
      "text/plain": [
       "True"
      ]
     },
     "execution_count": 7,
     "metadata": {},
     "output_type": "execute_result"
    }
   ],
   "source": [
    "from files_provider.files_provider import FilesProvider\n",
    "from dependencies.check_global_metadata_file import check\n",
    "\n",
    "modules = FilesProvider() \\\n",
    "        .get_all_files_not_upstreamed() \\\n",
    "        .only_dp_artifacts() \\\n",
    "        .get_modules() \\\n",
    "        .get()\n",
    "\n",
    "check(modules)"
   ]
  },
  {
   "cell_type": "markdown",
   "metadata": {},
   "source": [
    "\n",
    "## Run generators"
   ]
  },
  {
   "cell_type": "markdown",
   "metadata": {},
   "source": [
    "### Features"
   ]
  },
  {
   "cell_type": "code",
   "execution_count": null,
   "metadata": {},
   "outputs": [],
   "source": [
    "import generators\n",
    "import definitions\n",
    "\n",
    "generators.biome.run(definitions.MC_VERSION, definitions.DATAPACKS_PATH, definitions.ASSETS_PATH)\n",
    "generators.block.run(definitions.MC_VERSION, definitions.DATAPACKS_PATH, definitions.ASSETS_PATH)"
   ]
  },
  {
   "cell_type": "markdown",
   "metadata": {},
   "source": [
    "### Metadata"
   ]
  },
  {
   "cell_type": "code",
   "execution_count": 1,
   "metadata": {},
   "outputs": [
    {
     "name": "stdout",
     "output_type": "stream",
     "text": [
      "🧩 The following modules will be analyzed:\n",
      "  datapacks\\Bookshelf\\data\\bs.block\n",
      "  datapacks\\Bookshelf\\data\\bs.bitwise\n",
      "  datapacks\\Bookshelf Dev\\data\\bs.log\n",
      "  datapacks\\Bookshelf\\data\\bs.sidebar\n",
      "📦 Found 4 features:\n",
      "  bs.block:get_block\n",
      "  bs.bitwise:and\n",
      "  bs.log:error\n",
      "  bs.sidebar:create\n",
      "⏳ Generating their metadata file…\n",
      "⚙️ Generated metadata for module sidebar\n",
      "⚙️ Generated metadata for feature bs.sidebar:create\n"
     ]
    }
   ],
   "source": [
    "from dependencies.generator import generate\n",
    "from files_provider.files_provider import FilesProvider\n",
    "\n",
    "modules = FilesProvider() \\\n",
    "        .get_all_files_not_upstreamed() \\\n",
    "        .only_dp_artifacts() \\\n",
    "        .get_modules()\n",
    "        \n",
    "generate(modules)"
   ]
  }
 ],
 "metadata": {
  "kernelspec": {
   "display_name": "Python 3",
   "language": "python",
   "name": "python3"
  },
  "language_info": {
   "codemirror_mode": {
    "name": "ipython",
    "version": 3
   },
   "file_extension": ".py",
   "mimetype": "text/x-python",
   "name": "python",
   "nbconvert_exporter": "python",
   "pygments_lexer": "ipython3",
   "version": "3.12.3"
  }
 },
 "nbformat": 4,
 "nbformat_minor": 2
}
