{
 "cells": [
  {
   "cell_type": "markdown",
   "metadata": {},
   "source": [
    "## Dependencies"
   ]
  },
  {
   "cell_type": "code",
   "execution_count": 1,
   "metadata": {},
   "outputs": [
    {
     "name": "stdout",
     "output_type": "stream",
     "text": [
      "Obtaining file:///C:/Users/theog/AppData/Roaming/com.modrinth.theseus/profiles/Bookshelf/saves/Bookshelf/scripts\n",
      "  Installing build dependencies: started\n",
      "  Installing build dependencies: finished with status 'done'\n",
      "  Checking if build backend supports build_editable: started\n",
      "  Checking if build backend supports build_editable: finished with status 'done'\n",
      "  Getting requirements to build editable: started\n",
      "  Getting requirements to build editable: finished with status 'done'\n",
      "  Installing backend dependencies: started\n",
      "  Installing backend dependencies: finished with status 'done'\n",
      "  Preparing editable metadata (pyproject.toml): started\n",
      "  Preparing editable metadata (pyproject.toml): finished with status 'done'\n",
      "Requirement already satisfied: nbtlib==1.12.1 in c:\\users\\theog\\appdata\\local\\programs\\python\\python312\\lib\\site-packages (from bookshelf-scripts==1.0.0) (1.12.1)\n",
      "Requirement already satisfied: pyyaml in c:\\users\\theog\\appdata\\local\\programs\\python\\python312\\lib\\site-packages (from bookshelf-scripts==1.0.0) (6.0.1)\n",
      "Requirement already satisfied: requests in c:\\users\\theog\\appdata\\local\\programs\\python\\python312\\lib\\site-packages (from bookshelf-scripts==1.0.0) (2.31.0)\n",
      "Requirement already satisfied: Jinja2 in c:\\users\\theog\\appdata\\local\\programs\\python\\python312\\lib\\site-packages (from bookshelf-scripts==1.0.0) (3.1.4)\n",
      "Collecting colored (from bookshelf-scripts==1.0.0)\n",
      "  Downloading colored-2.2.4-py3-none-any.whl.metadata (3.6 kB)\n",
      "Requirement already satisfied: numpy in c:\\users\\theog\\appdata\\local\\programs\\python\\python312\\lib\\site-packages (from nbtlib==1.12.1->bookshelf-scripts==1.0.0) (1.26.4)\n",
      "Requirement already satisfied: MarkupSafe>=2.0 in c:\\users\\theog\\appdata\\local\\programs\\python\\python312\\lib\\site-packages (from Jinja2->bookshelf-scripts==1.0.0) (2.1.5)\n",
      "Requirement already satisfied: charset-normalizer<4,>=2 in c:\\users\\theog\\appdata\\local\\programs\\python\\python312\\lib\\site-packages (from requests->bookshelf-scripts==1.0.0) (3.3.2)\n",
      "Requirement already satisfied: idna<4,>=2.5 in c:\\users\\theog\\appdata\\local\\programs\\python\\python312\\lib\\site-packages (from requests->bookshelf-scripts==1.0.0) (3.7)\n",
      "Requirement already satisfied: urllib3<3,>=1.21.1 in c:\\users\\theog\\appdata\\local\\programs\\python\\python312\\lib\\site-packages (from requests->bookshelf-scripts==1.0.0) (2.2.1)\n",
      "Requirement already satisfied: certifi>=2017.4.17 in c:\\users\\theog\\appdata\\local\\programs\\python\\python312\\lib\\site-packages (from requests->bookshelf-scripts==1.0.0) (2024.2.2)\n",
      "Downloading colored-2.2.4-py3-none-any.whl (16 kB)\n",
      "Building wheels for collected packages: bookshelf-scripts\n",
      "  Building editable for bookshelf-scripts (pyproject.toml): started\n",
      "  Building editable for bookshelf-scripts (pyproject.toml): finished with status 'done'\n",
      "  Created wheel for bookshelf-scripts: filename=bookshelf_scripts-1.0.0-0.editable-py3-none-any.whl size=12593 sha256=36e837592d23002004fec6499c203023b91d68074aef29201b9df0c7e82e30d0\n",
      "  Stored in directory: C:\\Users\\theog\\AppData\\Local\\Temp\\pip-ephem-wheel-cache-odigp3js\\wheels\\d3\\cd\\9e\\194415e42dc711a53eb037b1a001f8c71219cb96e3cecbdc69\n",
      "Successfully built bookshelf-scripts\n",
      "Installing collected packages: colored, bookshelf-scripts\n",
      "  Attempting uninstall: bookshelf-scripts\n",
      "    Found existing installation: bookshelf-scripts 1.0.0\n",
      "    Uninstalling bookshelf-scripts-1.0.0:\n",
      "      Successfully uninstalled bookshelf-scripts-1.0.0\n",
      "Successfully installed bookshelf-scripts-1.0.0 colored-2.2.4\n",
      "Note: you may need to restart the kernel to use updated packages.\n"
     ]
    }
   ],
   "source": [
    "%pip install -e ."
   ]
  },
  {
   "cell_type": "markdown",
   "metadata": {},
   "source": [
    "## Test datapacks"
   ]
  },
  {
   "cell_type": "code",
   "execution_count": 1,
   "metadata": {},
   "outputs": [
    {
     "name": "stdout",
     "output_type": "stream",
     "text": [
      "📦 Setting up assets\n",
      "\u001b[93m🚀 Downloading\u001b[0m [https://cdn.modrinth.com/data/P7dR8mSH/versions/sswM8UzU/fabric-api-0.99.0%2B1.20.6.jar]\n",
      "\u001b[93m🚀 Downloading\u001b[0m [https://cdn.modrinth.com/data/XsKUhp45/versions/UnZw9eUD/packtest-1.7-mc1.20.5.jar]\n",
      "🔗 Linking datapacks\n",
      "🧪 Running test server\n",
      "✅ All required tests passed :)\n"
     ]
    }
   ],
   "source": [
    "import mcunit\n",
    "import definitions\n",
    "\n",
    "mcunit.run(definitions.DATAPACKS_PATH, definitions.MC_VERSION)"
   ]
  },
  {
   "cell_type": "markdown",
   "metadata": {},
   "source": [
    "## Validate metadata"
   ]
  },
  {
   "cell_type": "markdown",
   "metadata": {},
   "source": [
    "### Check Function Header"
   ]
  },
  {
   "cell_type": "code",
   "execution_count": 3,
   "metadata": {},
   "outputs": [
    {
     "name": "stdout",
     "output_type": "stream",
     "text": [
      "📄 The following files will be reviewed:\u001b[0m\n",
      "   \u001b[38;5;8m datapacks\\Bookshelf Dev\\data\\bs.log\\tags\\functions\\error.json\u001b[0m\n",
      "   \u001b[38;5;8m datapacks\\Bookshelf\\data\\bs.bitwise\\tags\\functions\\and.json\u001b[0m\n",
      "   \u001b[38;5;8m datapacks\\Bookshelf\\data\\bs.block\\tags\\functions\\get_block.json\u001b[0m\n",
      "   \u001b[38;5;8m datapacks\\Bookshelf\\data\\bs.block\\tags\\functions\\get_type.json\u001b[0m\n",
      "   \u001b[38;5;8m datapacks\\Bookshelf\\data\\bs.block\\tags\\functions\\lookup_type.json\u001b[0m\n",
      "   \u001b[38;5;8m datapacks\\Bookshelf\\data\\bs.block\\tags\\functions\\replace_mapped_type.json\u001b[0m\n",
      "   \u001b[38;5;8m datapacks\\Bookshelf\\data\\bs.sidebar\\tags\\functions\\create.json\u001b[0m\n",
      "   \u001b[38;5;8m datapacks\\Bookshelf\\data\\bs.sidebar\\tags\\functions\\refresh.json\u001b[0m\n",
      "📦 Found 8 features:\u001b[0m\n",
      "   \u001b[38;5;8m bs.log:error\u001b[0m\n",
      "   \u001b[38;5;8m bs.bitwise:and\u001b[0m\n",
      "   \u001b[38;5;8m bs.block:get_block\u001b[0m\n",
      "   \u001b[38;5;8m bs.block:get_type\u001b[0m\n",
      "   \u001b[38;5;8m bs.block:lookup_type\u001b[0m\n",
      "   \u001b[38;5;8m bs.block:replace_mapped_type\u001b[0m\n",
      "   \u001b[38;5;8m bs.sidebar:create\u001b[0m\n",
      "   \u001b[38;5;8m bs.sidebar:refresh\u001b[0m\n",
      "⏳ Checking the header of all the called function…\u001b[0m\n",
      "   \u001b[38;5;1m Invalid header in function 'bs.log:time\\get' (feature bs.log:error).\u001b[0m\n",
      "   \u001b[38;5;1m Invalid header in function 'bs.log:time\\ticks\\format' (feature bs.log:error).\u001b[0m\n",
      "   \u001b[38;5;1m Invalid header in function 'bs.log:time\\ticks\\stringify' (feature bs.log:error).\u001b[0m\n",
      "   \u001b[38;5;1m No metadata in feature tag 'bs.bitwise:and'. End points analyze will be ignored.\u001b[0m\n",
      "   \u001b[38;5;1m Invalid header in function 'bs.bitwise:and\\and' (feature bs.bitwise:and).\u001b[0m\n",
      "   \u001b[38;5;1m Invalid header in function 'bs.bitwise:and\\compute' (feature bs.bitwise:and).\u001b[0m\n",
      "   \u001b[38;5;1m No metadata in feature tag 'bs.block:get_block'. End points analyze will be ignored.\u001b[0m\n",
      "   \u001b[38;5;1m Invalid header in function 'bs.block:get\\get_block' (feature bs.block:get_block).\u001b[0m\n",
      "   \u001b[38;5;1m Invalid header in function 'bs.block:get\\lookup' (feature bs.block:get_block).\u001b[0m\n",
      "   \u001b[38;5;1m Invalid header in function 'bs.block:get\\dispatch' (feature bs.block:get_block).\u001b[0m\n",
      "   \u001b[38;5;1m Invalid header in function 'bs.block:get\\compile\\block' (feature bs.block:get_block).\u001b[0m\n",
      "   \u001b[38;5;1m Invalid header in function 'bs.block:get\\compile\\concat\\state' (feature bs.block:get_block).\u001b[0m\n",
      "   \u001b[38;5;1m Invalid header in function 'bs.block:get\\compile\\concat\\block' (feature bs.block:get_block).\u001b[0m\n",
      "   \u001b[38;5;1m No metadata in feature tag 'bs.block:get_type'. End points analyze will be ignored.\u001b[0m\n",
      "   \u001b[38;5;1m Invalid header in function 'bs.block:get\\get_type' (feature bs.block:get_type).\u001b[0m\n",
      "   \u001b[38;5;1m Invalid header in function 'bs.block:get\\lookup' (feature bs.block:get_type).\u001b[0m\n",
      "   \u001b[38;5;1m Invalid header in function 'bs.block:get\\compile\\type' (feature bs.block:get_type).\u001b[0m\n",
      "   \u001b[38;5;1m No metadata in feature tag 'bs.block:lookup_type'. End points analyze will be ignored.\u001b[0m\n",
      "   \u001b[38;5;1m Invalid header in function 'bs.block:lookup\\lookup_type' (feature bs.block:lookup_type).\u001b[0m\n",
      "   \u001b[38;5;1m Invalid header in function 'bs.block:get\\lookup' (feature bs.block:lookup_type).\u001b[0m\n",
      "   \u001b[38;5;1m Invalid header in function 'bs.block:get\\compile\\type' (feature bs.block:lookup_type).\u001b[0m\n",
      "   \u001b[38;5;1m No metadata in feature tag 'bs.block:replace_mapped_type'. End points analyze will be ignored.\u001b[0m\n",
      "   \u001b[38;5;1m Invalid header in function 'bs.block:transform\\replace_mapped_type\\with_mapping_set' (feature bs.block:replace_mapped_type).\u001b[0m\n",
      "   \u001b[38;5;1m Invalid header in function 'bs.block:transform\\replace_mapped_type\\replace_mapped_type' (feature bs.block:replace_mapped_type).\u001b[0m\n",
      "   \u001b[38;5;1m Invalid header in function 'bs.block:transform\\replace_mapped_type\\find_set' (feature bs.block:replace_mapped_type).\u001b[0m\n",
      "   \u001b[38;5;1m Invalid header in function 'bs.block:transform\\replace_mapped_type\\replace_intersect' (feature bs.block:replace_mapped_type).\u001b[0m\n",
      "   \u001b[38;5;1m Invalid header in function 'bs.block:transform\\replace_type' (feature bs.block:replace_mapped_type).\u001b[0m\n",
      "   \u001b[38;5;1m Invalid header in function 'bs.block:get\\lookup' (feature bs.block:replace_mapped_type).\u001b[0m\n",
      "   \u001b[38;5;1m Invalid header in function 'bs.block:get\\compile\\block' (feature bs.block:replace_mapped_type).\u001b[0m\n",
      "   \u001b[38;5;1m Invalid header in function 'bs.block:get\\compile\\concat\\state' (feature bs.block:replace_mapped_type).\u001b[0m\n",
      "   \u001b[38;5;1m Invalid header in function 'bs.block:get\\compile\\concat\\block' (feature bs.block:replace_mapped_type).\u001b[0m\n",
      "   \u001b[38;5;1m Invalid header in function 'bs.sidebar:create\\check\\objective' (feature bs.sidebar:create).\u001b[0m\n",
      "   \u001b[38;5;1m Invalid header in function 'bs.sidebar:create\\check\\name' (feature bs.sidebar:create).\u001b[0m\n",
      "   \u001b[38;5;1m Invalid header in function 'bs.sidebar:create\\recurse\\start' (feature bs.sidebar:create).\u001b[0m\n",
      "   \u001b[38;5;1m Invalid header in function 'bs.sidebar:create\\recurse\\next' (feature bs.sidebar:create).\u001b[0m\n",
      "   \u001b[38;5;1m Invalid header in function 'bs.sidebar:create\\recurse\\next' (feature bs.sidebar:create).\u001b[0m\n",
      "   \u001b[38;5;1m Invalid header in function 'bs.sidebar:create\\recurse\\abort' (feature bs.sidebar:create).\u001b[0m\n",
      "   \u001b[38;5;1m Invalid header in function 'bs.sidebar:refresh\\refresh' (feature bs.sidebar:refresh).\u001b[0m\n",
      "   \u001b[38;5;1m Invalid header in function 'bs.sidebar:refresh\\loop' (feature bs.sidebar:refresh).\u001b[0m\n",
      "   \u001b[38;5;1m Invalid header in function 'bs.sidebar:refresh\\loop' (feature bs.sidebar:refresh).\u001b[0m\n",
      "❌ Done with 40 errors.\n"
     ]
    },
    {
     "data": {
      "text/plain": [
       "True"
      ]
     },
     "execution_count": 3,
     "metadata": {},
     "output_type": "execute_result"
    }
   ],
   "source": [
    "from check_function_headers.process import process\n",
    "from files_provider.files_provider import FilesProvider\n",
    "\n",
    "files = FilesProvider() \\\n",
    "        .get_all_files_not_upstreamed() \\\n",
    "        .only_dp_artifacts() \\\n",
    "        .get_features()\n",
    "\n",
    "process(files)"
   ]
  },
  {
   "cell_type": "markdown",
   "metadata": {},
   "source": [
    "### Check Metadata File"
   ]
  },
  {
   "cell_type": "code",
   "execution_count": 2,
   "metadata": {},
   "outputs": [
    {
     "name": "stdout",
     "output_type": "stream",
     "text": [
      "🧩 The following modules will be analyzed:\u001b[0m\n",
      "   \u001b[38;5;8m datapacks\\Bookshelf\\data\\bs.bitwise\u001b[0m\n",
      "   \u001b[38;5;8m datapacks\\Bookshelf Dev\\data\\bs.log\u001b[0m\n",
      "   \u001b[38;5;8m datapacks\\Bookshelf\\data\\bs.sidebar\u001b[0m\n",
      "   \u001b[38;5;8m datapacks\\Bookshelf\\data\\bs.block\u001b[0m\n",
      "⏳ Checking their metadata file…\u001b[0m\n",
      "   \u001b[38;5;8m Checking module 'datapacks\\Bookshelf\\data\\bs.bitwise'.\u001b[0m\n",
      "   \u001b[38;5;1m Metadata file not found for module 'datapacks\\Bookshelf\\data\\bs.bitwise'.\u001b[0m\n",
      "   \u001b[38;5;8m Checking module 'datapacks\\Bookshelf Dev\\data\\bs.log'.\u001b[0m\n",
      "   \u001b[38;5;1m Metadata file not found for module 'datapacks\\Bookshelf Dev\\data\\bs.log'.\u001b[0m\n",
      "   \u001b[38;5;8m Checking module 'datapacks\\Bookshelf\\data\\bs.sidebar'.\u001b[0m\n",
      "   \u001b[38;5;1m Metadata file for module 'datapacks\\Bookshelf\\data\\bs.sidebar' is missing required key 'documentation'.\u001b[0m\n",
      "   \u001b[38;5;8m Checking module 'datapacks\\Bookshelf\\data\\bs.block'.\u001b[0m\n",
      "   \u001b[38;5;1m Metadata file not found for module 'datapacks\\Bookshelf\\data\\bs.block'.\u001b[0m\n",
      "❌ Done with 4 errors.\n"
     ]
    },
    {
     "data": {
      "text/plain": [
       "True"
      ]
     },
     "execution_count": 2,
     "metadata": {},
     "output_type": "execute_result"
    }
   ],
   "source": [
    "from files_provider.files_provider import FilesProvider\n",
    "from dependencies.check_module_metadata_file import check\n",
    "\n",
    "modules = FilesProvider() \\\n",
    "        .get_all_files_not_upstreamed() \\\n",
    "        .only_dp_artifacts() \\\n",
    "        .get_modules() \\\n",
    "        .get()\n",
    "\n",
    "check(modules)"
   ]
  },
  {
   "cell_type": "markdown",
   "metadata": {},
   "source": [
    "### Check Feature Tag Metadata"
   ]
  },
  {
   "cell_type": "code",
   "execution_count": 1,
   "metadata": {},
   "outputs": [
    {
     "name": "stdout",
     "output_type": "stream",
     "text": [
      "📄 The following files will be reviewed:\u001b[0m\n",
      "   \u001b[38;5;8m datapacks\\Bookshelf Dev\\data\\bs.log\\tags\\functions\\error.json\u001b[0m\n",
      "   \u001b[38;5;8m datapacks\\Bookshelf\\data\\bs.bitwise\\tags\\functions\\and.json\u001b[0m\n",
      "   \u001b[38;5;8m datapacks\\Bookshelf\\data\\bs.block\\tags\\functions\\get_block.json\u001b[0m\n",
      "   \u001b[38;5;8m datapacks\\Bookshelf\\data\\bs.block\\tags\\functions\\get_type.json\u001b[0m\n",
      "   \u001b[38;5;8m datapacks\\Bookshelf\\data\\bs.block\\tags\\functions\\lookup_type.json\u001b[0m\n",
      "   \u001b[38;5;8m datapacks\\Bookshelf\\data\\bs.block\\tags\\functions\\replace_mapped_type.json\u001b[0m\n",
      "   \u001b[38;5;8m datapacks\\Bookshelf\\data\\bs.sidebar\\tags\\functions\\create.json\u001b[0m\n",
      "   \u001b[38;5;8m datapacks\\Bookshelf\\data\\bs.sidebar\\tags\\functions\\refresh.json\u001b[0m\n",
      "📦 Found 8 features:\u001b[0m\n",
      "   \u001b[38;5;8m bs.log:error\u001b[0m\n",
      "   \u001b[38;5;8m bs.bitwise:and\u001b[0m\n",
      "   \u001b[38;5;8m bs.block:get_block\u001b[0m\n",
      "   \u001b[38;5;8m bs.block:get_type\u001b[0m\n",
      "   \u001b[38;5;8m bs.block:lookup_type\u001b[0m\n",
      "   \u001b[38;5;8m bs.block:replace_mapped_type\u001b[0m\n",
      "   \u001b[38;5;8m bs.sidebar:create\u001b[0m\n",
      "   \u001b[38;5;8m bs.sidebar:refresh\u001b[0m\n",
      "⏳ Checking their specified metadata…\u001b[0m\n",
      "   \u001b[38;5;1m Missing key '__bookshelf__.updated' in Bookshelf metadata of feature tag 'bs.log:error'.\u001b[0m\n",
      "   \u001b[38;5;1m No metadata in feature tag 'bs.bitwise:and'.\u001b[0m\n",
      "   \u001b[38;5;1m No metadata in feature tag 'bs.block:get_block'.\u001b[0m\n",
      "   \u001b[38;5;1m No metadata in feature tag 'bs.block:get_type'.\u001b[0m\n",
      "   \u001b[38;5;1m No metadata in feature tag 'bs.block:lookup_type'.\u001b[0m\n",
      "   \u001b[38;5;1m No metadata in feature tag 'bs.block:replace_mapped_type'.\u001b[0m\n",
      "❌ Done with 6 errors.\n"
     ]
    },
    {
     "data": {
      "text/plain": [
       "True"
      ]
     },
     "execution_count": 1,
     "metadata": {},
     "output_type": "execute_result"
    }
   ],
   "source": [
    "from files_provider.files_provider import FilesProvider\n",
    "from check_feature_tag.process import check\n",
    "\n",
    "files = FilesProvider() \\\n",
    "        .get_all_files_not_upstreamed() \\\n",
    "        .only_dp_artifacts() \\\n",
    "        .get_features()\n",
    "\n",
    "check(files)"
   ]
  },
  {
   "cell_type": "markdown",
   "metadata": {},
   "source": [
    "### Check Generated Metadata"
   ]
  },
  {
   "cell_type": "code",
   "execution_count": 3,
   "metadata": {},
   "outputs": [
    {
     "name": "stdout",
     "output_type": "stream",
     "text": [
      "🧩 The following modules will be analyzed:\u001b[0m\n",
      "   \u001b[38;5;8m datapacks\\Bookshelf\\data\\bs.block\u001b[0m\n",
      "   \u001b[38;5;8m datapacks\\Bookshelf\\data\\bs.bitwise\u001b[0m\n",
      "   \u001b[38;5;8m datapacks\\Bookshelf Dev\\data\\bs.log\u001b[0m\n",
      "   \u001b[38;5;8m datapacks\\Bookshelf\\data\\bs.sidebar\u001b[0m\n",
      "📦 Found 3 features:\u001b[0m\n",
      "   \u001b[38;5;8m bs.log:error\u001b[0m\n",
      "   \u001b[38;5;8m bs.sidebar:create\u001b[0m\n",
      "   \u001b[38;5;8m bs.sidebar:refresh\u001b[0m\n",
      "⏳ Computing their metadata file…\u001b[0m\n",
      "   \u001b[38;5;8m Computing metadata for module bs.log.\u001b[0m\n",
      "   \u001b[38;5;1m Metadata file not found for module 'datapacks\\Bookshelf Dev\\data\\bs.log'.\u001b[0m\n",
      "   \u001b[38;5;1m Errors when computing metadata for the module 'bs.log'. The module metadata and its features metadata have not been processed.\u001b[0m\n",
      "   \u001b[38;5;8m Computing metadata for module bs.sidebar.\u001b[0m\n",
      "   \u001b[38;5;2m Metadata file 'datapacks\\Bookshelf\\data\\bs.sidebar\\.metadata\\generated\\module.yml' is up-to-date.\u001b[0m\n",
      "   \u001b[38;5;8m Computing feature for module bs.sidebar:create.\u001b[0m\n",
      "   \u001b[38;5;8m Computing feature for module bs.sidebar:refresh.\u001b[0m\n",
      "   \u001b[38;5;2m Metadata file 'datapacks\\Bookshelf\\data\\bs.sidebar\\.metadata\\generated\\features.yml' is up-to-date.\u001b[0m\n",
      "❌ Done with 1 errors.\n"
     ]
    },
    {
     "data": {
      "text/plain": [
       "True"
      ]
     },
     "execution_count": 3,
     "metadata": {},
     "output_type": "execute_result"
    }
   ],
   "source": [
    "from dependencies.check_generated_metadata import check\n",
    "from files_provider.files_provider import FilesProvider\n",
    "\n",
    "modules = FilesProvider() \\\n",
    "        .get_all_files_not_upstreamed() \\\n",
    "        .only_dp_artifacts() \\\n",
    "        .get_modules()\n",
    "        \n",
    "check(modules)"
   ]
  },
  {
   "cell_type": "markdown",
   "metadata": {},
   "source": [
    "\n",
    "## Run generators"
   ]
  },
  {
   "cell_type": "markdown",
   "metadata": {},
   "source": [
    "### Features"
   ]
  },
  {
   "cell_type": "code",
   "execution_count": 4,
   "metadata": {},
   "outputs": [
    {
     "name": "stdout",
     "output_type": "stream",
     "text": [
      "⛰️ Running the biome generator\n",
      "\u001b[90m⚙️ Generating tags files\u001b[0m\n",
      "\u001b[90m⚙️ Generating predicates files\u001b[0m\n",
      "\u001b[90m⚙️ Generating types table function\u001b[0m\n",
      "\u001b[90m⚙️ Updating storage file asset\u001b[0m\n",
      "✅ Done!\n",
      "🧱 Running the block generator\n",
      "\u001b[90m⚙️ Generating tags files\u001b[0m\n",
      "\u001b[90m⚙️ Generating types table function\u001b[0m\n",
      "\u001b[90m⚙️ Generating states table function\u001b[0m\n",
      "\u001b[90m⚙️ Generating registry functions\u001b[0m\n",
      "\u001b[90m⚙️ Updating storage file asset\u001b[0m\n",
      "✅ Done!\n"
     ]
    }
   ],
   "source": [
    "import generators\n",
    "import definitions\n",
    "\n",
    "generators.biome.run(definitions.MC_VERSION, definitions.DATAPACKS_PATH, definitions.ASSETS_PATH)\n",
    "generators.block.run(definitions.MC_VERSION, definitions.DATAPACKS_PATH, definitions.ASSETS_PATH)"
   ]
  },
  {
   "cell_type": "markdown",
   "metadata": {},
   "source": [
    "### Metadata"
   ]
  },
  {
   "cell_type": "code",
   "execution_count": 3,
   "metadata": {},
   "outputs": [
    {
     "name": "stdout",
     "output_type": "stream",
     "text": [
      "🧩 The following modules will be analyzed:\u001b[0m\n",
      "   \u001b[38;5;8m datapacks\\Bookshelf Dev\\data\\bs.log\u001b[0m\n",
      "   \u001b[38;5;8m datapacks\\Bookshelf\\data\\bs.block\u001b[0m\n",
      "   \u001b[38;5;8m datapacks\\Bookshelf\\data\\bs.sidebar\u001b[0m\n",
      "   \u001b[38;5;8m datapacks\\Bookshelf\\data\\bs.bitwise\u001b[0m\n",
      "📦 Found 3 features:\u001b[0m\n",
      "   \u001b[38;5;8m bs.log:error\u001b[0m\n",
      "   \u001b[38;5;8m bs.sidebar:create\u001b[0m\n",
      "   \u001b[38;5;8m bs.sidebar:refresh\u001b[0m\n",
      "⏳ Generating their metadata file…\u001b[0m\n",
      "   \u001b[38;5;8m Computing metadata for module bs.log.\u001b[0m\n",
      "   \u001b[38;5;1m Metadata file not found for module 'datapacks\\Bookshelf Dev\\data\\bs.log'.\u001b[0m\n",
      "   \u001b[38;5;1m Errors when computing metadata for the module 'bs.log'. The module metadata and its features metadata have not been processed.\u001b[0m\n",
      "   \u001b[38;5;8m Computing metadata for module bs.sidebar.\u001b[0m\n",
      "   \u001b[38;5;8m Computing feature for module bs.sidebar:refresh.\u001b[0m\n",
      "   \u001b[38;5;8m Computing feature for module bs.sidebar:create.\u001b[0m\n",
      "❌ Done with 1 errors.\n"
     ]
    },
    {
     "data": {
      "text/plain": [
       "True"
      ]
     },
     "execution_count": 3,
     "metadata": {},
     "output_type": "execute_result"
    }
   ],
   "source": [
    "from dependencies.generate_metadata import generate\n",
    "from files_provider.files_provider import FilesProvider\n",
    "\n",
    "modules = FilesProvider() \\\n",
    "        .get_all_files_not_upstreamed() \\\n",
    "        .only_dp_artifacts() \\\n",
    "        .get_modules()\n",
    "        \n",
    "generate(modules)"
   ]
  }
 ],
 "metadata": {
  "kernelspec": {
   "display_name": "Python 3",
   "language": "python",
   "name": "python3"
  },
  "language_info": {
   "codemirror_mode": {
    "name": "ipython",
    "version": 3
   },
   "file_extension": ".py",
   "mimetype": "text/x-python",
   "name": "python",
   "nbconvert_exporter": "python",
   "pygments_lexer": "ipython3",
   "version": "3.12.3"
  }
 },
 "nbformat": 4,
 "nbformat_minor": 2
}
